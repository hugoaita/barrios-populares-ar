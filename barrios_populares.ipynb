{
 "cells": [
  {
   "cell_type": "code",
   "execution_count": null,
   "metadata": {
    "id": "ghp3QZO98Lm7",
    "tags": []
   },
   "outputs": [],
   "source": [
    "import pandas as pd\n",
    "import numpy as np"
   ]
  },
  {
   "cell_type": "code",
   "execution_count": null,
   "metadata": {
    "colab": {
     "base_uri": "https://localhost:8080/"
    },
    "id": "CDNsnnBiSmR5",
    "outputId": "f2a64622-26b8-4876-b17f-857d8060f701"
   },
   "outputs": [],
   "source": [
    "# Download the dataset\n",
    "url='https://datosabiertos.desarrollosocial.gob.ar/dataset/0d022767-9390-486a-bff4-ba53b85d730e/resource/9a951270-60dd-4f21-aa19-4ef1205620bd/download/20220131_info_publica.csv'\n",
    "\n",
    "\n",
    "path = './'\n",
    "dataset_file = 'relevamiento-villas-y-asentamientos-AR.csv'\n",
    "\n",
    "!wget -O path+dataset_file $url\n"
   ]
  },
  {
   "cell_type": "code",
   "execution_count": null,
   "metadata": {
    "id": "HdBb8AtA9AxK"
   },
   "outputs": [],
   "source": [
    "# Load the dataset.csv as DataFrame\n",
    "# Convert string -> category\n",
    "\n",
    "url = path + dataset_file\n",
    "\n",
    "\n",
    "df = pd.read_csv(url, index_col='id_renabap',\n",
    "                 dtype={\"id_renabap\": 'int64',\n",
    "                        \"nombre_barrio\": 'category',\n",
    "                        \"provincia\": 'category',\n",
    "                        \"departamento\": 'category',\n",
    "                        \"localidad\": 'category',\n",
    "                        \"cantidad_viviendas_aproximadas\": 'int64',\n",
    "                        \"cantidad_familias_aproximadas\": 'int64',\n",
    "                        \"decada_de_creacion\": 'category',\n",
    "                        \"anio_de_creacion\": 'Int64',\n",
    "                        \"energia_electrica\": 'category',\n",
    "                        \"efluentes_cloacales\": 'category',\n",
    "                        \"agua_corriente\": 'category',\n",
    "                        \"cocina\": 'category',\n",
    "                        \"calefaccion\": 'category',\n",
    "                        \"titulo_propiedad\": 'category',\n",
    "                        \"clasificacion_barrio\": 'category',\n",
    "                        \"superficie_m2\": 'int64'})"
   ]
  },
  {
   "cell_type": "code",
   "execution_count": null,
   "metadata": {
    "id": "i0dSKEQT9tEe"
   },
   "outputs": [],
   "source": [
    "len(df)"
   ]
  },
  {
   "cell_type": "code",
   "execution_count": null,
   "metadata": {
    "id": "FlCiOORv9sCQ",
    "tags": []
   },
   "outputs": [],
   "source": [
    "df.head()"
   ]
  },
  {
   "cell_type": "code",
   "execution_count": null,
   "metadata": {
    "id": "HNN6ocUJFA7c"
   },
   "outputs": [],
   "source": [
    "# Find NA\n",
    "df.isna().any()\n"
   ]
  },
  {
   "cell_type": "markdown",
   "metadata": {
    "id": "XrnzmYtFGkLt"
   },
   "source": [
    " Vemos que hay valores nulos en la columna **anio de creacion**"
   ]
  },
  {
   "cell_type": "code",
   "execution_count": null,
   "metadata": {
    "id": "77CnBorJHDsx"
   },
   "outputs": [],
   "source": [
    "df['anio_de_creacion'].unique()"
   ]
  },
  {
   "cell_type": "markdown",
   "metadata": {
    "id": "-g80R_z-HplM"
   },
   "source": [
    "El año de creacion está registrado solamente a partir de la década del 2010."
   ]
  },
  {
   "cell_type": "code",
   "execution_count": null,
   "metadata": {
    "id": "4plOZ84UYJQG"
   },
   "outputs": [],
   "source": [
    "barrios_provincia_count = (df.groupby(['provincia'])['nombre_barrio'].count().reset_index().\n",
    "                           rename(columns={'nombre_barrio': 'count'}))\n",
    "\n",
    "\n",
    "barrios_provincia_count"
   ]
  },
  {
   "cell_type": "markdown",
   "metadata": {
    "id": "3ZzkkmXx9-Iq"
   },
   "source": []
  },
  {
   "cell_type": "code",
   "execution_count": null,
   "metadata": {
    "id": "v3WM_0Q299dP"
   },
   "outputs": [],
   "source": [
    "barrios_provincia_departamento_count = (df.groupby(['provincia', 'departamento'])['nombre_barrio'].count().reset_index().\n",
    "                                        rename(columns={'nombre_barrio':'count'}))"
   ]
  },
  {
   "cell_type": "code",
   "execution_count": null,
   "metadata": {
    "colab": {
     "base_uri": "https://localhost:8080/",
     "height": 424
    },
    "id": "QotG9E_p-RY1",
    "outputId": "d1611528-572d-4884-83dd-51fc267e1aab"
   },
   "outputs": [],
   "source": [
    "barrios_provincia_departamento_count"
   ]
  },
  {
   "cell_type": "code",
   "execution_count": null,
   "metadata": {
    "colab": {
     "base_uri": "https://localhost:8080/",
     "height": 802
    },
    "id": "O0BFrcMqIVPt",
    "outputId": "10974965-d90a-4540-a2f6-b2a79dba331c"
   },
   "outputs": [],
   "source": [
    "viviendas_barrios_populares_prov = (df.groupby(['provincia'])['cantidad_viviendas_aproximadas'].sum().reset_index().\n",
    "                                    rename(columns={'cantidad_viviendas_aproximadas':'sum'}))\n",
    "\n",
    "viviendas_barrios_populares_prov\n"
   ]
  },
  {
   "cell_type": "code",
   "execution_count": null,
   "metadata": {
    "colab": {
     "base_uri": "https://localhost:8080/",
     "height": 802
    },
    "id": "VvQ3waLqKKqQ",
    "outputId": "6cfd0ea0-4f86-4cc7-fb36-1b0f18280562"
   },
   "outputs": [],
   "source": [
    "familias_barrios_populares_prov = (df.groupby(['provincia'])['cantidad_familias_aproximada'].sum().reset_index().\n",
    "                                   rename(columns={'cantidad_familias_aproximada':'sum'}))\n",
    "\n",
    "familias_barrios_populares_prov"
   ]
  },
  {
   "cell_type": "code",
   "execution_count": null,
   "metadata": {
    "colab": {
     "base_uri": "https://localhost:8080/",
     "height": 543
    },
    "id": "kC2OxaIcCx5X",
    "outputId": "c67a1f9e-beb6-4d23-d309-fc9deff1212c"
   },
   "outputs": [],
   "source": [
    "alt.Chart(familias_barrios_populares_prov).mark_bar().encode(\n",
    "    y='provincia',\n",
    "    x='sum'\n",
    ")"
   ]
  },
  {
   "cell_type": "code",
   "execution_count": null,
   "metadata": {
    "colab": {
     "base_uri": "https://localhost:8080/",
     "height": 543
    },
    "id": "uRj_gPhNDl5F",
    "outputId": "994fe94f-7273-43f5-c2eb-79610eb6968e"
   },
   "outputs": [],
   "source": [
    "alt.Chart(df).mark_bar().encode(\n",
    "    x='count()',\n",
    "    y='provincia'\n",
    ")"
   ]
  },
  {
   "cell_type": "markdown",
   "metadata": {
    "id": "p5ptemiUKxLj",
    "tags": []
   },
   "source": [
    "# Generación de tablas\n",
    "\n",
    "## Tabla de cada servicio\n",
    "### Electricidad\n",
    "\n",
    "| id_electricidad | tipo de acceso |\n",
    "| --------------------:  | ---------------- |\n",
    "|             1          |  23434           |\n",
    "\n",
    "\n",
    "### Efluentes cloacales\n",
    "\n",
    "| id_efluentes_cloacales | tipo de acceso |\n",
    "| ---------------------: | ---------------- |\n",
    "|             1          |  23434           |\n",
    "\n",
    "\n",
    "### Agua corriente\n",
    "\n",
    "### Cocina\n",
    "\n",
    "\n",
    "### Calefacción"
   ]
  },
  {
   "cell_type": "code",
   "execution_count": null,
   "metadata": {
    "id": "C_-xfXP-LXU-",
    "tags": []
   },
   "outputs": [],
   "source": [
    "# Acceso a servicios publicos\n",
    "servicios = ['energia_electrica', 'calefaccion', 'agua_corriente',\n",
    "             'efluentes_cloacales', 'cocina']\n",
    "\n",
    "for nombre_servicio in servicios:\n",
    "    # Energia electrica\n",
    "    s = df[[nombre_servicio]].reset_index()\n",
    "    s.drop(['id_renabap'], axis=1, inplace=True)\n",
    "    s.drop_duplicates(inplace=True, ignore_index=True)\n",
    "    # electricidad.drop(['index'], axis=1, inplace=True)\n",
    "    s.reset_index(drop=True)\n",
    "\n",
    "    s.index = s.index + 1\n",
    "    s.index.name = 'id_' + nombre_servicio + '_acceso'\n",
    "\n",
    "    s.reset_index(inplace=True)\n",
    "\n",
    "    outfile = nombre_servicio + '.csv'\n",
    "    s.to_csv(outfile, index=False)\n",
    "\n",
    "\n"
   ]
  },
  {
   "cell_type": "markdown",
   "metadata": {
    "id": "WtJWg3aWGb24"
   },
   "source": [
    "## Tabla de provincias"
   ]
  },
  {
   "cell_type": "code",
   "execution_count": null,
   "metadata": {
    "colab": {
     "base_uri": "https://localhost:8080/",
     "height": 802
    },
    "id": "Wmbli4g6gAkc",
    "outputId": "9812e6f8-bcbf-4c15-d388-b2da6e0532a8"
   },
   "outputs": [],
   "source": [
    "provincia = pd.Series(df['provincia'].unique())\n",
    "provincia.index = provincia.index + 1\n",
    "\n",
    "provincia.index.name = 'id_provincia'\n",
    "provincia = provincia.to_frame(name='provincia').reset_index()\n",
    "\n",
    "provincia"
   ]
  },
  {
   "cell_type": "code",
   "execution_count": null,
   "metadata": {},
   "outputs": [],
   "source": [
    "# Save tables provincias to csv\n",
    "provincia.to_csv('provincia.csv', index=False)\n"
   ]
  },
  {
   "cell_type": "markdown",
   "metadata": {},
   "source": [
    "## Tabla de departamentos"
   ]
  },
  {
   "cell_type": "code",
   "execution_count": null,
   "metadata": {
    "jp-MarkdownHeadingCollapsed": true,
    "tags": []
   },
   "outputs": [],
   "source": [
    "# Tabla de departamentos\n",
    "# id_departamento   id_provincia   nombre_departamento\n",
    "\n",
    "# Extract departamento and provincia from dataframe, drop id_denabap\n",
    "departamento = df[['departamento', 'provincia']].reset_index()\n",
    "departamento.drop(['id_renabap'], axis=1, inplace=True)\n",
    "\n",
    "departamento.reset_index(inplace=True)\n",
    "departamento.drop(['index'], axis=1, inplace=True)\n",
    "\n",
    "# Add id_provincia\n",
    "df2 = pd.merge(departamento, provincia, on='provincia', how='outer')\n",
    "\n",
    "# Drop duplicate rows\n",
    "df3 = df2[['departamento', 'provincia', 'id_provincia']].drop_duplicates().reset_index(drop=True)\n",
    "\n",
    "# Set index name\n",
    "df3.index = df3.index + 1\n",
    "df3.index.name = 'id_departamento'\n",
    "df3.reset_index(inplace=True)\n",
    "\n",
    "# Drop provincias column\n",
    "departamento_table = pd.DataFrame(df3[['id_departamento', 'id_provincia', 'departamento']])\n",
    "\n",
    "# Save table to 'departamento.csv'\n",
    "departamento_table.to_csv('./departamento.csv', index=False)\n",
    "\n",
    "\n",
    "departamento_table"
   ]
  },
  {
   "cell_type": "markdown",
   "metadata": {},
   "source": [
    "## Tabla de localidades"
   ]
  },
  {
   "cell_type": "code",
   "execution_count": null,
   "metadata": {},
   "outputs": [],
   "source": [
    "# Tabla de localidades\n",
    "# id_localidad   id_departamento   nombre_localidad\n",
    "\n",
    "# Extract departamento and provincia from dataframe, drop id_denabap\n",
    "localidad = df[['localidad', 'departamento']].reset_index()\n",
    "localidad.drop(['id_renabap'], axis=1, inplace=True)\n",
    "\n",
    "localidad.reset_index(inplace=True)\n",
    "localidad.drop(['index'], axis=1, inplace=True)\n",
    "\n",
    "# Add id_provincia\n",
    "df2 = pd.merge(localidad, departamento_table, on='departamento', how='outer')\n",
    "\n",
    "# Drop duplicate rows\n",
    "df3 = df2[['localidad', 'departamento', 'id_departamento']].drop_duplicates().reset_index()\n",
    "\n",
    "# Set index name\n",
    "df3.index = df3.index + 1\n",
    "df3.index.name = 'id_localidad'\n",
    "df3.reset_index(inplace=True)\n",
    "\n",
    "# Drop provincias column\n",
    "localidad_table = pd.DataFrame(df3[['id_localidad', 'id_departamento', 'localidad']])\n",
    "\n",
    "# Save table to 'departamento.csv'\n",
    "localidad_table.to_csv('./localidad.csv', index=False)\n",
    "\n",
    "\n",
    "localidad_table"
   ]
  },
  {
   "cell_type": "markdown",
   "metadata": {
    "colab": {
     "base_uri": "https://localhost:8080/",
     "height": 424
    },
    "id": "dq-w8J2OQheR",
    "outputId": "2b6ef94a-e634-45c0-aa74-67df066cbaf1",
    "tags": []
   },
   "source": [
    "## Tabla de decadas\n",
    "\n"
   ]
  },
  {
   "cell_type": "code",
   "execution_count": null,
   "metadata": {},
   "outputs": [],
   "source": [
    "# Tabla de decadas\n",
    "decada = df['decada_de_creacion'].reset_index()\n",
    "decada.drop(['id_renabap'], axis=1, inplace=True)\n",
    "decada.drop_duplicates(inplace=True)\n",
    "decada.reset_index(inplace=True)\n",
    "decada = decada.sort_values(by=['decada_de_creacion'])\n",
    "\n",
    "decada.drop(['index'], axis=1, inplace=True)\n",
    "decada.reset_index(inplace=True)\n",
    "decada.index = decada.index +  1\n",
    "decada.index.name = 'id_decada_creacion'\n",
    "decada.reset_index(inplace=True)\n",
    "\n",
    "decada = decada[['id_decada_creacion', 'decada_de_creacion']]\n",
    "\n",
    "outfile = './decada_de_creacion.csv'\n",
    "\n",
    "decada.to_csv(outfile, index=False)\n",
    "\n"
   ]
  },
  {
   "cell_type": "code",
   "execution_count": null,
   "metadata": {
    "id": "wtu4buIFWFkH"
   },
   "outputs": [],
   "source": [
    "decada"
   ]
  },
  {
   "cell_type": "markdown",
   "metadata": {
    "id": "TPdFhKROOF_o"
   },
   "source": [
    "## Tabla de titulo_de_propiedad\n"
   ]
  },
  {
   "cell_type": "code",
   "execution_count": null,
   "metadata": {},
   "outputs": [],
   "source": [
    "# Tabla de decadas\n",
    "titulo_de_propiedad = df[['titulo_propiedad']].reset_index()\n",
    "titulo_de_propiedad.drop(['id_renabap'], axis=1, inplace=True)\n",
    "titulo_de_propiedad.drop_duplicates(inplace=True)\n",
    "titulo_de_propiedad.reset_index(inplace=True)\n",
    "\n",
    "titulo_de_propiedad.drop(['index'], axis=1, inplace=True)\n",
    "titulo_de_propiedad.reset_index(inplace=True)\n",
    "titulo_de_propiedad.index = titulo_de_propiedad.index +  1\n",
    "titulo_de_propiedad.index.name = 'id_titulo_propiedad'\n",
    "titulo_de_propiedad = titulo_de_propiedad.reset_index()\n",
    "\n",
    "titulo_de_propiedad = titulo_de_propiedad[['id_titulo_propiedad', 'titulo_propiedad']]\n",
    "\n",
    "outfile = './titulo_propiedad.csv'\n",
    "\n",
    "titulo_de_propiedad.to_csv(outfile, index=False)\n"
   ]
  },
  {
   "cell_type": "code",
   "execution_count": null,
   "metadata": {},
   "outputs": [],
   "source": [
    "titulo_de_propiedad"
   ]
  },
  {
   "cell_type": "markdown",
   "metadata": {},
   "source": [
    "## Tabla clasificacion_barrio"
   ]
  },
  {
   "cell_type": "code",
   "execution_count": null,
   "metadata": {},
   "outputs": [],
   "source": [
    "# Tabla de decadas\n",
    "clasificacion_barrio = df[['clasificacion_barrio']].reset_index()\n",
    "clasificacion_barrio.drop(['id_renabap'], axis=1, inplace=True)\n",
    "clasificacion_barrio.drop_duplicates(inplace=True)\n",
    "clasificacion_barrio.reset_index(inplace=True)\n",
    "\n",
    "clasificacion_barrio.drop(['index'], axis=1, inplace=True)\n",
    "clasificacion_barrio.reset_index(inplace=True)\n",
    "clasificacion_barrio.index = clasificacion_barrio.index +  1\n",
    "clasificacion_barrio.index.name = 'id_clasificacion_barrio'\n",
    "clasificacion_barrio = clasificacion_barrio.reset_index()\n",
    "\n",
    "clasificacion_barrio = clasificacion_barrio[['id_clasificacion_barrio', 'clasificacion_barrio']]\n",
    "\n",
    "outfile = './clasificacion_barrios.csv'\n",
    "\n",
    "clasificacion_barrio.to_csv(outfile, index=False)\n"
   ]
  },
  {
   "cell_type": "markdown",
   "metadata": {
    "colab": {
     "base_uri": "https://localhost:8080/",
     "height": 424
    },
    "id": "krbG2XpJPwLd",
    "outputId": "7fa7a6f7-ae52-468d-e741-0b76b24742ea",
    "tags": []
   },
   "source": [
    "## Tabla de barrios"
   ]
  },
  {
   "cell_type": "code",
   "execution_count": null,
   "metadata": {
    "jp-MarkdownHeadingCollapsed": true,
    "tags": []
   },
   "outputs": [],
   "source": [
    "barrios_populares = df.copy()\n",
    "barrios_populares.reset_index(inplace=True)\n",
    "\n",
    "#tables = ['localidad', 'decada_de_creacion',\n",
    "#          'energia_electrica', 'efluentes_cloacales', 'agua_corriente',\n",
    "#          'cocina', 'calefaccion',\n",
    "#          'titulo_propiedad', 'clasificacion_barrio']\n",
    "          \n",
    "localidad = pd.read_csv('localidad.csv')\n",
    "decada_de_creacion = pd.read_csv('decada_de_creacion.csv')\n",
    "energia_electrica = pd.read_csv('energia_electrica.csv')\n",
    "calefaccion = pd.read_csv('calefaccion.csv')\n",
    "efluentes_cloacales = pd.read_csv('efluentes_cloacales.csv')\n",
    "cocina = pd.read_csv('cocina.csv')\n",
    "agua_corriente = pd.read_csv('agua_corriente.csv')\n",
    "\n",
    "\n",
    "\n",
    "\n",
    "\n",
    "\n",
    "# Add id_provincia\n",
    "df2 = pd.merge(barrios_populares, localidad, on='localidad', how='outer')\n",
    "\n",
    "df2.drop_duplicates(inplace=True)\n",
    "df2.reset_index(inplace=True)\n",
    "df2.drop('localidad', axis=1, inplace=True)\n",
    "df2.reset_index(inplace=True)\n",
    "\n",
    "\n",
    "df3 = pd.merge(df2, energia_electrica, on='energia_electrica', how='outer')\n",
    "df3.drop_duplicates(inplace=True)\n",
    "\n",
    "df4 = pd.merge(df3, calefaccion, on='calefaccion', how='outer')\n",
    "df4.drop_duplicates(inplace=True)\n",
    "\n",
    "df5 = pd.merge(df4, efluentes_cloacales, on='efluentes_cloacales', how='outer')\n",
    "df5.drop_duplicates(inplace=True)\n",
    "\n",
    "df6 = pd.merge(df5, cocina, on='cocina', how='outer')\n",
    "df6.drop_duplicates(inplace=True)\n",
    "\n",
    "df7 = pd.merge(df6, agua_corriente, on='agua_corriente', how='outer')\n",
    "df7.drop_duplicates(inplace=True)\n",
    "\n",
    "df8 = pd.merge(df7, clasificacion_barrio, on='clasificacion_barrio', how='outer')\n",
    "df8.drop_duplicates(inplace=True)\n",
    "\n",
    "df9 = pd.merge(df8, titulo_de_propiedad, on='titulo_propiedad', how='outer')\n",
    "df9.drop_duplicates(inplace=True)\n",
    "\n",
    "df10 = pd.merge(df9, decada_de_creacion, on='decada_de_creacion', how='outer')\n",
    "df10.drop_duplicates(inplace=True)\n",
    "\n",
    "\n",
    "cols_barrio = ['id_renabap', 'id_localidad', 'id_decada_creacion', \n",
    "               'id_energia_electrica_acceso', 'id_efluentes_cloacales_acceso',\n",
    "               'id_agua_corriente_acceso', 'id_cocina_acceso', 'id_calefaccion_acceso',\n",
    "               'id_clasificacion_barrio', 'id_titulo_propiedad',\n",
    "               'nombre_barrio', 'cantidad_viviendas_aproximadas' ]\n",
    "\n",
    "\n"
   ]
  },
  {
   "cell_type": "code",
   "execution_count": null,
   "metadata": {},
   "outputs": [],
   "source": [
    "df2.drop_duplicates()\n"
   ]
  },
  {
   "cell_type": "code",
   "execution_count": null,
   "metadata": {},
   "outputs": [],
   "source": [
    "df10['id_renabap'].unique()"
   ]
  },
  {
   "cell_type": "code",
   "execution_count": null,
   "metadata": {
    "id": "68ubQWp9Zc4d",
    "tags": []
   },
   "outputs": [],
   "source": [
    "foreign_keys = ['id_localidad', 'id_decada_de_creacion',\n",
    "                'id_electricidad', 'id_calefaccion',\n",
    "                'id_agua_corriente', 'id_efluentes_cloacales',\n",
    "                'id_cocina']\n",
    "  \n",
    "tablas = ['localidad', 'decada_de_creacion', 'energia_electrica',\n",
    "          'calefaccion', 'agua_corriente', 'id_efluentes_cloacales',\n",
    "          'id_cocina']\n",
    "          \n",
    "    \n",
    "for t in tablas:\n",
    "    filename = t + '.csv'\n",
    "    table_df = pd.read_csv(filename)\n",
    "    print (table_df) \n",
    "    \n",
    "    \n"
   ]
  },
  {
   "cell_type": "code",
   "execution_count": null,
   "metadata": {},
   "outputs": [],
   "source": [
    "barrios_table_attr = ['nombre_barrio', 'cantidad_viviendas_aproximadas', 'cantidad_familias_aproximada',\n",
    "                     'titulo_propiedad', 'clasificacion_barrio', 'superficie_m2']\n",
    "\n",
    "df[barrios_table_attr]\n"
   ]
  },
  {
   "cell_type": "code",
   "execution_count": null,
   "metadata": {},
   "outputs": [],
   "source": []
  }
 ],
 "metadata": {
  "colab": {
   "provenance": []
  },
  "kernelspec": {
   "display_name": "Python 3 (ipykernel)",
   "language": "python",
   "name": "python3"
  },
  "language_info": {
   "codemirror_mode": {
    "name": "ipython",
    "version": 3
   },
   "file_extension": ".py",
   "mimetype": "text/x-python",
   "name": "python",
   "nbconvert_exporter": "python",
   "pygments_lexer": "ipython3",
   "version": "3.9.13"
  }
 },
 "nbformat": 4,
 "nbformat_minor": 4
}
